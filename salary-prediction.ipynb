{
 "cells": [
  {
   "cell_type": "code",
   "execution_count": 1,
   "metadata": {
    "_cell_guid": "b1076dfc-b9ad-4769-8c92-a6c4dae69d19",
    "_uuid": "8f2839f25d086af736a60e9eeb907d3b93b6e0e5"
   },
   "outputs": [],
   "source": [
    "# This Python 3 environment comes with many helpful analytics libraries installed\n",
    "# It is defined by the kaggle/python docker image: https://github.com/kaggle/docker-python\n",
    "# For example, here's several helpful packages to load in \n",
    "\n",
    "import numpy as np # linear algebra\n",
    "import pandas as pd # data processing, CSV file I/O (e.g. pd.read_csv)\n",
    "import seaborn as sns\n",
    "import matplotlib.pyplot as plt\n",
    "%matplotlib inline\n",
    "# Input data files are available in the \"../input/\" directory.\n",
    "# For example, running this (by clicking run or pressing Shift+Enter) will list the files in the input directory\n",
    "\n",
    "\n",
    "\n",
    "# Any results you write to the current directory are saved as output."
   ]
  },
  {
   "cell_type": "code",
   "execution_count": 2,
   "metadata": {
    "_uuid": "2d21bf6252096944f63891cdc4be3f56f1e22b4c"
   },
   "outputs": [],
   "source": []
  },
  {
   "cell_type": "code",
   "execution_count": 2,
   "metadata": {
    "_cell_guid": "79c7e3d0-c299-4dcb-8224-4455121ee9b0",
    "_kg_hide-input": true,
    "_uuid": "d629ff2d2480ee46fbb7e2d37f6b5fab8052498a"
   },
   "outputs": [],
   "source": [
    "df=pd.read_csv('../input/Salary_Data.csv')"
   ]
  },
  {
   "cell_type": "code",
   "execution_count": 3,
   "metadata": {
    "_uuid": "6590d8fd3c9c31c154f572626789e164075b6611"
   },
   "outputs": [
    {
     "data": {
      "text/html": [
       "<div>\n",
       "<style scoped>\n",
       "    .dataframe tbody tr th:only-of-type {\n",
       "        vertical-align: middle;\n",
       "    }\n",
       "\n",
       "    .dataframe tbody tr th {\n",
       "        vertical-align: top;\n",
       "    }\n",
       "\n",
       "    .dataframe thead th {\n",
       "        text-align: right;\n",
       "    }\n",
       "</style>\n",
       "<table border=\"1\" class=\"dataframe\">\n",
       "  <thead>\n",
       "    <tr style=\"text-align: right;\">\n",
       "      <th></th>\n",
       "      <th>YearsExperience</th>\n",
       "      <th>Salary</th>\n",
       "    </tr>\n",
       "  </thead>\n",
       "  <tbody>\n",
       "    <tr>\n",
       "      <th>0</th>\n",
       "      <td>1.1</td>\n",
       "      <td>39343.0</td>\n",
       "    </tr>\n",
       "    <tr>\n",
       "      <th>1</th>\n",
       "      <td>1.3</td>\n",
       "      <td>46205.0</td>\n",
       "    </tr>\n",
       "    <tr>\n",
       "      <th>2</th>\n",
       "      <td>1.5</td>\n",
       "      <td>37731.0</td>\n",
       "    </tr>\n",
       "    <tr>\n",
       "      <th>3</th>\n",
       "      <td>2.0</td>\n",
       "      <td>43525.0</td>\n",
       "    </tr>\n",
       "    <tr>\n",
       "      <th>4</th>\n",
       "      <td>2.2</td>\n",
       "      <td>39891.0</td>\n",
       "    </tr>\n",
       "  </tbody>\n",
       "</table>\n",
       "</div>"
      ],
      "text/plain": [
       "   YearsExperience   Salary\n",
       "0              1.1  39343.0\n",
       "1              1.3  46205.0\n",
       "2              1.5  37731.0\n",
       "3              2.0  43525.0\n",
       "4              2.2  39891.0"
      ]
     },
     "execution_count": 3,
     "metadata": {},
     "output_type": "execute_result"
    }
   ],
   "source": [
    "df.head()"
   ]
  },
  {
   "cell_type": "markdown",
   "metadata": {
    "_uuid": "75654b5e5a7238f4ae5f07e4de385931e8f59424"
   },
   "source": [
    "#We want to predict the salary of the new staff with \n",
    "11years experience and 0 year experience"
   ]
  },
  {
   "cell_type": "markdown",
   "metadata": {
    "_uuid": "fed7b65a80d09db43ed0cad81a75e4208d2b308e"
   },
   "source": [
    "We are going to use 3 algorithms in this tutorial to see which one is the best."
   ]
  },
  {
   "cell_type": "code",
   "execution_count": 4,
   "metadata": {
    "_uuid": "407a6c4e08dedb13b4e9613f9b4c29182758921a"
   },
   "outputs": [
    {
     "data": {
      "text/plain": [
       "<matplotlib.axes._subplots.AxesSubplot at 0x7f8d5cbbe2b0>"
      ]
     },
     "execution_count": 4,
     "metadata": {},
     "output_type": "execute_result"
    },
    {
     "data": {
      "image/png": "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\n",
      "text/plain": [
       "<Figure size 432x288 with 1 Axes>"
      ]
     },
     "metadata": {},
     "output_type": "display_data"
    }
   ],
   "source": [
    "sns.distplot(df['YearsExperience'], kde=False, bins=10)\n",
    "#this plot is used to visualise distribution"
   ]
  },
  {
   "cell_type": "code",
   "execution_count": 5,
   "metadata": {
    "_uuid": "1343e65019f8779f13006f3d384b733a32339f65"
   },
   "outputs": [
    {
     "name": "stderr",
     "output_type": "stream",
     "text": [
      "/opt/conda/lib/python3.6/site-packages/scipy/stats/stats.py:1713: FutureWarning: Using a non-tuple sequence for multidimensional indexing is deprecated; use `arr[tuple(seq)]` instead of `arr[seq]`. In the future this will be interpreted as an array index, `arr[np.array(seq)]`, which will result either in an error or a different result.\n",
      "  return np.add.reduce(sorted[indexer] * weights, axis=axis) / sumval\n"
     ]
    },
    {
     "data": {
      "text/plain": [
       "<matplotlib.axes._subplots.AxesSubplot at 0x7f8d5a2f9ac8>"
      ]
     },
     "execution_count": 5,
     "metadata": {},
     "output_type": "execute_result"
    },
    {
     "data": {
      "image/png": "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\n",
      "text/plain": [
       "<Figure size 432x288 with 1 Axes>"
      ]
     },
     "metadata": {},
     "output_type": "display_data"
    }
   ],
   "source": [
    "sns.barplot(x='YearsExperience', y='Salary', data=df)"
   ]
  },
  {
   "cell_type": "code",
   "execution_count": 6,
   "metadata": {
    "_uuid": "009d533216197aaaa99d5f5c85103df3b50b2c00"
   },
   "outputs": [
    {
     "name": "stderr",
     "output_type": "stream",
     "text": [
      "/opt/conda/lib/python3.6/site-packages/scipy/stats/stats.py:1713: FutureWarning: Using a non-tuple sequence for multidimensional indexing is deprecated; use `arr[tuple(seq)]` instead of `arr[seq]`. In the future this will be interpreted as an array index, `arr[np.array(seq)]`, which will result either in an error or a different result.\n",
      "  return np.add.reduce(sorted[indexer] * weights, axis=axis) / sumval\n"
     ]
    },
    {
     "data": {
      "text/plain": [
       "<matplotlib.axes._subplots.AxesSubplot at 0x7f8d66ad8898>"
      ]
     },
     "execution_count": 6,
     "metadata": {},
     "output_type": "execute_result"
    },
    {
     "data": {
      "image/png": "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\n",
      "text/plain": [
       "<Figure size 432x288 with 1 Axes>"
      ]
     },
     "metadata": {},
     "output_type": "display_data"
    }
   ],
   "source": [
    "sns.distplot(df.Salary) #lets see the flow of salary "
   ]
  },
  {
   "cell_type": "code",
   "execution_count": 7,
   "metadata": {
    "_uuid": "c84721a4901ff3e8ff3b83851871353d8906207f"
   },
   "outputs": [],
   "source": [
    "#Now lets split our data set into training and testing set"
   ]
  },
  {
   "cell_type": "code",
   "execution_count": 8,
   "metadata": {
    "_uuid": "44f54bcc8aa2e84ff367e9edb63291ef82ec46ed"
   },
   "outputs": [],
   "source": [
    "x=df.iloc[:, :-1].values\n",
    "y=df.iloc[:, 1].values\n",
    "\n",
    "#spiliting to independent and dependent variables"
   ]
  },
  {
   "cell_type": "code",
   "execution_count": 9,
   "metadata": {
    "_uuid": "ef480c181a3ad399cd347e8af6b4bd21f2275394"
   },
   "outputs": [],
   "source": [
    "from sklearn.model_selection import train_test_split"
   ]
  },
  {
   "cell_type": "code",
   "execution_count": 10,
   "metadata": {
    "_uuid": "a6d101d151c7422e0541b29958b187bc8222fa47"
   },
   "outputs": [],
   "source": [
    "x_train, x_test, y_train, y_test=train_test_split(x, y, test_size=1/3, random_state=0)"
   ]
  },
  {
   "cell_type": "code",
   "execution_count": 11,
   "metadata": {
    "_uuid": "db8a5d2b2864f9afdca55c75620ca2890c069eb8"
   },
   "outputs": [
    {
     "ename": "NameError",
     "evalue": "name 'lr' is not defined",
     "output_type": "error",
     "traceback": [
      "\u001b[0;31m---------------------------------------------------------------------------\u001b[0m",
      "\u001b[0;31mNameError\u001b[0m                                 Traceback (most recent call last)",
      "\u001b[0;32m<ipython-input-11-b0a71773d5af>\u001b[0m in \u001b[0;36m<module>\u001b[0;34m()\u001b[0m\n\u001b[1;32m      1\u001b[0m \u001b[0;31m#let's fit the training data\u001b[0m\u001b[0;34m\u001b[0m\u001b[0;34m\u001b[0m\u001b[0m\n\u001b[0;32m----> 2\u001b[0;31m \u001b[0mlr\u001b[0m\u001b[0;34m.\u001b[0m\u001b[0mfit\u001b[0m\u001b[0;34m(\u001b[0m\u001b[0mx_train\u001b[0m\u001b[0;34m,\u001b[0m \u001b[0my_train\u001b[0m\u001b[0;34m)\u001b[0m\u001b[0;34m\u001b[0m\u001b[0m\n\u001b[0m",
      "\u001b[0;31mNameError\u001b[0m: name 'lr' is not defined"
     ]
    }
   ],
   "source": [
    "#let's fit the training data\n",
    "lr.fit(x_train, y_train)"
   ]
  },
  {
   "cell_type": "code",
   "execution_count": 12,
   "metadata": {
    "_uuid": "7c55d11c08480e16f5950009aca824ebc389b853"
   },
   "outputs": [],
   "source": [
    "#Lets create a Linear regresion model \n",
    "from sklearn.linear_model import LinearRegression\n",
    "lr=LinearRegression()"
   ]
  },
  {
   "cell_type": "code",
   "execution_count": 13,
   "metadata": {
    "_uuid": "eee93e063fedbd26eda1be6c61fc57859790344f"
   },
   "outputs": [
    {
     "data": {
      "text/plain": [
       "array([ 40835.10590871, 123079.39940819,  65134.55626083,  63265.36777221,\n",
       "       115602.64545369, 108125.8914992 , 116537.23969801,  64199.96201652,\n",
       "        76349.68719258, 100649.1375447 ])"
      ]
     },
     "execution_count": 13,
     "metadata": {},
     "output_type": "execute_result"
    }
   ],
   "source": [
    "lr.fit(x_train, y_train)\n",
    "y_pred=lr.predict(x_test)\n",
    "y_pred"
   ]
  },
  {
   "cell_type": "code",
   "execution_count": 14,
   "metadata": {
    "_uuid": "3599ab02a69b419dfbffa3ff2cb1a69db3ede8ba"
   },
   "outputs": [
    {
     "data": {
      "image/png": "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\n",
      "text/plain": [
       "<Figure size 432x288 with 1 Axes>"
      ]
     },
     "metadata": {},
     "output_type": "display_data"
    }
   ],
   "source": [
    "plt.scatter(x_train,y_train,color='blue')\n",
    "plt.plot(x_train, lr.predict(x_train),color='red')\n",
    "plt.title('Salary vs Years of Experience(Training Data)')\n",
    "plt.xlabel('Years of Experience')\n",
    "plt.ylabel('Salary of an employee')\n",
    "plt.show()"
   ]
  },
  {
   "cell_type": "code",
   "execution_count": 15,
   "metadata": {
    "_uuid": "d1783744601312aba710c1653a33a9017f446547"
   },
   "outputs": [
    {
     "data": {
      "image/png": "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\n",
      "text/plain": [
       "<Figure size 432x288 with 1 Axes>"
      ]
     },
     "metadata": {},
     "output_type": "display_data"
    }
   ],
   "source": [
    "plt.scatter(x_test,y_test,color='blue')\n",
    "plt.plot(x_test, lr.predict(x_test),color='red')\n",
    "plt.title('Salary vs Years of Experience(Test Data)')\n",
    "plt.xlabel('Years of Experience')\n",
    "plt.ylabel('Salary of an employee')\n",
    "plt.show()"
   ]
  },
  {
   "cell_type": "markdown",
   "metadata": {
    "_uuid": "4145cd397448ca2b9034fe7eed36226bc44dfb3e"
   },
   "source": [
    "Let's import other algorithms and check out model accuracy"
   ]
  },
  {
   "cell_type": "code",
   "execution_count": 16,
   "metadata": {
    "_uuid": "f476b052e5a49722f788d8e20d6c42b90e7b89c5"
   },
   "outputs": [
    {
     "data": {
      "text/plain": [
       "array([39343., 98273., 56957., 56957., 98273., 98273., 98273., 56957.,\n",
       "       66029., 91738.])"
      ]
     },
     "execution_count": 16,
     "metadata": {},
     "output_type": "execute_result"

      ]
     },
     "execution_count": 19,
     "metadata": {},
     "output_type": "execute_result"
    }
   ],
   "source": [
    "from sklearn.ensemble import RandomForestClassifier\n",
    "clf = RandomForestClassifier(n_jobs=2, random_state=0)\n",
    "\n",
    "clf.fit(x_train, y_train)\n",
    "RandomForestClassifier(bootstrap=True, class_weight=None, criterion='gini',\n",
    "            max_depth=None, max_features='auto', max_leaf_nodes=None,\n",
    "            min_impurity_split=1e-07, min_samples_leaf=1,\n",
    "            min_samples_split=2, min_weight_fraction_leaf=0.0,\n",
    "            n_estimators=10, n_jobs=2, oob_score=False, random_state=0,\n",
    "            verbose=0, warm_start=False)"
   ]
  },
  {
   "cell_type": "code",
   "execution_count": 20,
   "metadata": {},
   "outputs": [
    {
     "name": "stdout",
     "output_type": "stream",
     "text": [
      "[ 46205. 121872.  56957.  56957. 105582. 105582. 105582.  56957.  66029.\n",
      " 113812.]\n"
     ]
    }
   ],
   "source": [
    "preds = clf.predict(x_test)\n",
    "print(preds)"
   ]
  },
  {
   "cell_type": "code",
   "execution_count": 21,
   "metadata": {
    "_uuid": "85b787974cc7a65f239e70c1ac5cb4746912052b"
   },
   "outputs": [
    {
     "data": {
      "text/plain": [
       "0.910000795725282"
      ]
     },
     "execution_count": 21,
     "metadata": {},
     "output_type": "execute_result"
    }
   ],
   "source": [
    "r2_score(y_test,preds) #for knn algorithm"
   ]
  },
  {
   "cell_type": "code",
   "execution_count": 22,
   "metadata": {
    "_uuid": "c03c5c5ac3610109674dbfe9984ce2031741ac0d"
   },
   "outputs": [
    {
     "data": {
      "text/plain": [
       "0.9749154407708353"
      ]
     },
     "execution_count": 22,
     "metadata": {},
     "output_type": "execute_result"
    }
   ],
   "source": [
    "r2_score(y_test,y_pred)#for linear regression"
   ]
  },
  {
   "cell_type": "markdown",
   "metadata": {
    "_uuid": "c174bb81077c48e419b38c097b66d02c9ce805b6"
   },
   "source": [
    "The best algorithms here is linear regression"
   ]
  },
  {
   "cell_type": "markdown",
   "metadata": {
    "_kg_hide-output": false,
    "_uuid": "b461bf0012104bf530eaf0289ef2fb44a2dba566"
   },
   "source": [
    "Let's predict the Salary of 0 year experience"
   ]
  },
  {
   "cell_type": "code",
   "execution_count": 23,
   "metadata": {
    "_uuid": "3130ce2df776d057ef260c2e9e159591fde9c8ca"
   },
   "outputs": [],
   "source": [
    "train_set=df['YearsExperience']\n",
    "train_labels=df['Salary']"
   ]
  },
  {
   "cell_type": "code",
   "execution_count": 24,
   "metadata": {
    "_uuid": "2fa6d4784eef8452c92f907597ee8570fafb6bab"
   },
   "outputs": [
    {
     "name": "stdout",
     "output_type": "stream",
     "text": [
      "Coefficients:  [9345.94244312]\n",
      "Intercept:  26816.19224403119\n"
     ]
    }
   ],
   "source": [
    "print(\"Coefficients: \", lr.coef_)\n",
    "print(\"Intercept: \", lr.intercept_)"
   ]
  }
 ],
 "metadata": {
  "kernelspec": {
   "display_name": "Python 3",
   "language": "python",
   "name": "python3"
  },
  "language_info": {
   "codemirror_mode": {
    "name": "ipython",
    "version": 3
   },
   "file_extension": ".py",
   "mimetype": "text/x-python",
   "name": "python",
   "nbconvert_exporter": "python",
   "pygments_lexer": "ipython3",
   "version": "3.6.6"
  }
 },
 "nbformat": 4,
 "nbformat_minor": 1
}
